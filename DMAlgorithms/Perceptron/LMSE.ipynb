{
 "cells": [
  {
   "cell_type": "code",
   "execution_count": 55,
   "metadata": {},
   "outputs": [],
   "source": [
    "from sklearn.datasets import load_iris\n",
    "from sklearn.model_selection import train_test_split\n",
    "from sklearn.metrics import accuracy_score\n",
    "import numpy as np\n",
    "import pandas as pd\n",
    "import matplotlib.pyplot as plt\n",
    "from mlxtend.plotting import plot_decision_regions\n",
    "\n",
    "np.random.seed(1)\n",
    "%matplotlib inline"
   ]
  },
  {
   "cell_type": "code",
   "execution_count": 93,
   "metadata": {},
   "outputs": [],
   "source": [
    "class LMSE(object):\n",
    "    def _init_(self):\n",
    "        self.W=None\n",
    "    def train(self,x,y,lr=0.1,num_iters=2000):\n",
    "        \"\"\"\n",
    "        x: 特征向量\n",
    "        y: 标签\n",
    "        lr: 学习速度\n",
    "        num_iters: 迭代次数\n",
    "        \"\"\"\n",
    "        # x.shape返回对应行、列\n",
    "        num_train,num_features=x.shape\n",
    "        # 返回num_train x 1的全为1的矩阵\n",
    "        xone=np.ones((num_train,1))\n",
    "        # 拼接成 num_train行 x列的矩阵\n",
    "        x=np.column_stack((xone,x))\n",
    "#         print(x)\n",
    "        # print(x[np.where(y==-1)]*-1)\n",
    "        # 如下涉及到具体的LMSE公式， 具体公式可参考\n",
    "        #https://www.cnblogs.com/szxspark/p/9928370.html\n",
    "        x[np.where(y==-1)]=x[np.where(y==-1)]*-1\n",
    "#         print(\"\\n\")\n",
    "#         print(x)\n",
    "        #权重和偏置初始化\n",
    "        self.W=np.ones((num_features+1))\n",
    "        Y=x\n",
    "        #逆矩阵\n",
    "        Ywn=np.linalg.pinv(Y)\n",
    "        bias=np.ones((num_train,))\n",
    "        # 1*10的-6次方 近乎为0\n",
    "        bmin=1e-6\n",
    "        flag=False\n",
    "        for i in range (num_iters):\n",
    "            # np.dot矩阵相乘\n",
    "            temp=np.array(np.dot(Y,self.W))\n",
    "            # 误差矢量e\n",
    "            Evector=temp-bias\n",
    "            Evector_=1/2*np.add(Evector,np.absolute(Evector))\n",
    "            bias=np.add(2*lr*Evector_,bias)\n",
    "            self.W=np.dot(Ywn,bias)\n",
    "            for row in Evector_:\n",
    "                if (np.absolute(row)<=bmin):# 遇到线性不可分， 退出程序\n",
    "                    print('reach bmin,end')\n",
    "                    flag=True\n",
    "                    break\n",
    "            if flag:\n",
    "                break\n",
    "            \n",
    "    def linear(self,x):\n",
    "        return np.dot(x,self.W[1:])+self.W[0]\n",
    "    \n",
    "    def predict(self,x):\n",
    "        return np.where(self.linear(x)>=0.0,1,-1)"
   ]
  },
  {
   "cell_type": "code",
   "execution_count": null,
   "metadata": {},
   "outputs": [],
   "source": [
    "lmseII=LMSE()\n",
    "vt=VOTER()\n",
    "W=vt.train(x_train,y_train,1,lmseII)\n",
    "pred=vt.predict(x_test)\n",
    "acc=accuracy_score(y_test,pred)\n",
    "print('the accuracy is: ',acc)\n",
    "k=0\n",
    "name=['class 0,class 1','class 0,class 2','class 1,class 2']\n",
    "#show the decision boundary\n",
    "for w in W:\n",
    "    x1 = np.arange(1.5,5.5,0.5)  \n",
    "    x2 = -( w[0] +w[1]*x1) / w[2]  \n",
    "    plt.plot(x1,x2,label=name[k])   \n",
    "    plt.legend(loc = 'best')  \n",
    "    k=k+1\n",
    "plt.show()"
   ]
  },
  {
   "cell_type": "code",
   "execution_count": 112,
   "metadata": {},
   "outputs": [],
   "source": [
    "class VOTER(object):          #定义投票器包装类，该类是出于复用考虑独立出来的，\n",
    "                              #需要传入分类器，只负责投票\n",
    "    def _init_(self):\n",
    "        self.wmatrix=[]  #分类器权重矩阵\n",
    "        self.Mode=0     #定义投票器模式 0：ova 一对多（c个二类分类面），\n",
    "                                   # 1：ovo（c*(c-1)/2个二类分类面） 一对一\n",
    "        self.classes=None\n",
    "    def train(self,x,y,mode,classifier):   #训练接口，相比一般的训练多了mode参数\n",
    "                                           #和classifier参数\n",
    "        matrix=[]                          \n",
    "        self.Mode=mode \n",
    "        y=np.array(y)\n",
    "        n_classes=np.unique(y)   #搜索到底有多少个类别    eg: unique([0,0,1,2,2])= [0,1,2]\n",
    "        self.classes=n_classes\n",
    "        if mode==0: #ova\n",
    "            self.Mode=0\n",
    "            print('training use ova vote')\n",
    "            for i in n_classes:\n",
    "                y_new=y              #用新的内存空间来防止误操作\n",
    "                y_new=np.where(y_new==i,1,-1)   #将类标映射为目标类为正类，非目标类为负类的标准形式\n",
    "                classifier.train(x,y_new)       #调用传入分类器的训练接口\n",
    "                matrix.append(classifier.W)        \n",
    "        else:\n",
    "            if mode==1: #ovo\n",
    "                self.Mode=1\n",
    "                print('training use ovo vote')\n",
    "                n_classes=np.unique(y)\n",
    "                x=np.array(x)\n",
    "                y=np.array(y)\n",
    "                for i in n_classes:\n",
    "                    for j in n_classes:             #类别两两组合\n",
    "                        if(i>=j):\n",
    "                            continue\n",
    "                        y_new=y\n",
    "                        y_new_i=y[np.where(y_new==i)]            #找出第i类的特征和类标\n",
    "                        x_new_i=x[np.where(y_new==i)]\n",
    "                        y_new_j=y[np.where(y_new==j)]            #找出第j类的特征和类标\n",
    "                        x_new_j=x[np.where(y_new==j)]\n",
    "                        y_new=np.concatenate((y_new_i,y_new_j),axis=0)    #第i类与第j类拼接\n",
    "                        x_new=np.concatenate((x_new_i,x_new_j),axis=0)\n",
    "                        y_new=np.where(y_new==i,1,-1)           #将i，j这两类映射为标准形式\n",
    "                        classifier.train(x_new,y_new)          \n",
    "                        matrix.append(classifier.W)\n",
    "        self.wmatrix=matrix\n",
    "        return matrix\n",
    "    \n",
    "    def predict(self,x):                                   #预测\n",
    "        Wm=self.wmatrix\n",
    "        vote=[]\n",
    "        tim=0\n",
    "        result=[]\n",
    "        if self.Mode==1:                              #ovo策略的训练器进行投票\n",
    "            print('using ovo mode for predicting')\n",
    "            for i in self.classes:\n",
    "                for j in self.classes:    #类别两两组合\n",
    "                    if(i>=j):\n",
    "                        continue\n",
    "                    w=Wm[tim]                          \n",
    "                    prediction=np.where((np.dot(x,w[1:])+w[0])>=0,i,j) #利用训练好的权重给出每个样本的类别\n",
    "                    vote.append(prediction)                           #加入到投票矩阵中\n",
    "                    tim+=1\n",
    "            vote=np.array(vote).T                                    #投票矩阵是3*num_train的格式，要先做转置\n",
    "            for line in vote:\n",
    "                # 选取最大的结果\n",
    "                tt=np.argmax(np.bincount(line))                     #转置后是num_train*3,也就是每个样本有3个预测结果，对结果进行投票\n",
    "                result.append(tt)                                   \n",
    "        else:\n",
    "            if self.Mode==0:\n",
    "                print('using ova mode for predicting')\n",
    "                for w in self.wmatrix:\n",
    "                    prediction=np.where((np.dot(x,w[1:])+w[0])>=0,1,-1)\n",
    "                    vote.append(prediction)\n",
    "                vote=np.array(vote).T\n",
    "                for line in vote:\n",
    "                    tt=np.argmax(line)                           #不统计出现个数是因为投票矩阵是的一行是[1,-1,-1]形式只要找到\n",
    "                    result.append(tt)                            #正类出现的位置即可，对于同票的情况[1,1,-1]，直接以第一个\n",
    "        return np.array(result)                                 #出现的正类的位置为最终决策，这是由于那些点往往是线性不可分点\n",
    "                                                                #也就是没有更好的决策方式来说明该点属于哪一类。"
   ]
  },
  {
   "cell_type": "code",
   "execution_count": null,
   "metadata": {},
   "outputs": [],
   "source": []
  },
  {
   "cell_type": "markdown",
   "metadata": {},
   "source": [
    "## 算法检测"
   ]
  },
  {
   "cell_type": "markdown",
   "metadata": {},
   "source": [
    "## Iris数据集 说明\n",
    "**标签（品种）：** \n",
    "1. setosa\n",
    "2. versicolor\n",
    "3. virginica\n",
    "\n",
    "**特征：** \n",
    "1. sepal length（花萼长度）\n",
    "2. sepal width（花萼宽度） \n",
    "3. petal length（花瓣长度) \n",
    "4. petal width（花瓣宽度）\n"
   ]
  },
  {
   "cell_type": "code",
   "execution_count": 4,
   "metadata": {},
   "outputs": [],
   "source": [
    "## 加载数据集\n",
    "iris = load_iris()\n",
    "## 特征\n",
    "feature = iris.data"
   ]
  },
  {
   "cell_type": "code",
   "execution_count": 49,
   "metadata": {},
   "outputs": [
    {
     "data": {
      "text/plain": [
       "(150, 4)"
      ]
     },
     "execution_count": 49,
     "metadata": {},
     "output_type": "execute_result"
    }
   ],
   "source": [
    "# 150条数据 4个特征\n",
    "feature.shape"
   ]
  },
  {
   "cell_type": "code",
   "execution_count": 50,
   "metadata": {},
   "outputs": [],
   "source": [
    "# 标签， 介绍中的四中\n",
    "target = iris.target"
   ]
  },
  {
   "cell_type": "code",
   "execution_count": 58,
   "metadata": {},
   "outputs": [],
   "source": [
    "unique_tag = pd.Series(target).unique()"
   ]
  },
  {
   "cell_type": "code",
   "execution_count": 60,
   "metadata": {},
   "outputs": [
    {
     "data": {
      "text/plain": [
       "array([0, 1, 2])"
      ]
     },
     "execution_count": 60,
     "metadata": {},
     "output_type": "execute_result"
    }
   ],
   "source": [
    "# 数据进行了简化，\n",
    "# 0： setosa\n",
    "# 1： versicolor\n",
    "# 2： virginica\n",
    "unique_tag"
   ]
  },
  {
   "cell_type": "code",
   "execution_count": 63,
   "metadata": {},
   "outputs": [
    {
     "data": {
      "text/plain": [
       "array([[5.1, 3.5, 1.4, 0.2],\n",
       "       [4.9, 3. , 1.4, 0.2],\n",
       "       [4.7, 3.2, 1.3, 0.2],\n",
       "       [4.6, 3.1, 1.5, 0.2],\n",
       "       [5. , 3.6, 1.4, 0.2]])"
      ]
     },
     "execution_count": 63,
     "metadata": {},
     "output_type": "execute_result"
    }
   ],
   "source": [
    "# 切片展示数据， 前五条 \n",
    "feature[:5]"
   ]
  },
  {
   "cell_type": "code",
   "execution_count": 64,
   "metadata": {},
   "outputs": [
    {
     "data": {
      "text/plain": [
       "array([0, 0, 0, 0, 0])"
      ]
     },
     "execution_count": 64,
     "metadata": {},
     "output_type": "execute_result"
    }
   ],
   "source": [
    "# 前五条数据对应的结果为：\n",
    "target[:5]"
   ]
  },
  {
   "cell_type": "code",
   "execution_count": 66,
   "metadata": {},
   "outputs": [],
   "source": [
    "# 选取第2个和第三个特征的所有数据\n",
    "X = feature[:, [1,3]]"
   ]
  },
  {
   "cell_type": "code",
   "execution_count": 69,
   "metadata": {},
   "outputs": [
    {
     "data": {
      "text/plain": [
       "array([[3.5, 0.2],\n",
       "       [3. , 0.2],\n",
       "       [3.2, 0.2],\n",
       "       [3.1, 0.2],\n",
       "       [3.6, 0.2]])"
      ]
     },
     "execution_count": 69,
     "metadata": {},
     "output_type": "execute_result"
    }
   ],
   "source": [
    "X[:5]"
   ]
  },
  {
   "cell_type": "code",
   "execution_count": 19,
   "metadata": {},
   "outputs": [],
   "source": [
    "y = target[:]"
   ]
  },
  {
   "cell_type": "code",
   "execution_count": 70,
   "metadata": {},
   "outputs": [],
   "source": [
    "# 转化为np的array形式， 方便操作数据\n",
    "label = np.array(y)"
   ]
  },
  {
   "cell_type": "code",
   "execution_count": 71,
   "metadata": {},
   "outputs": [],
   "source": [
    "# setosa品种\n",
    "index_0 = np.where(label==0)"
   ]
  },
  {
   "cell_type": "code",
   "execution_count": 22,
   "metadata": {},
   "outputs": [
    {
     "data": {
      "text/plain": [
       "(array([ 0,  1,  2,  3,  4,  5,  6,  7,  8,  9, 10, 11, 12, 13, 14, 15, 16,\n",
       "        17, 18, 19, 20, 21, 22, 23, 24, 25, 26, 27, 28, 29, 30, 31, 32, 33,\n",
       "        34, 35, 36, 37, 38, 39, 40, 41, 42, 43, 44, 45, 46, 47, 48, 49]),)"
      ]
     },
     "execution_count": 22,
     "metadata": {},
     "output_type": "execute_result"
    }
   ],
   "source": [
    "index_0"
   ]
  },
  {
   "cell_type": "code",
   "execution_count": 25,
   "metadata": {},
   "outputs": [
    {
     "data": {
      "text/plain": [
       "<matplotlib.collections.PathCollection at 0x7fa1332b25f8>"
      ]
     },
     "execution_count": 25,
     "metadata": {},
     "output_type": "execute_result"
    },
    {
     "data": {
      "image/png": "[encoded data removed]",
      "text/plain": [
       "<Figure size 432x288 with 1 Axes>"
      ]
     },
     "metadata": {
      "needs_background": "light"
     },
     "output_type": "display_data"
    }
   ],
   "source": [
    "plt.scatter(X[index_0,0],X[index_0,1],marker='x',color = 'b',label = '0',s = 15)"
   ]
  },
  {
   "cell_type": "code",
   "execution_count": 26,
   "metadata": {},
   "outputs": [],
   "source": [
    "index_1 =np.where(label==1)\n"
   ]
  },
  {
   "cell_type": "code",
   "execution_count": 28,
   "metadata": {},
   "outputs": [
    {
     "data": {
      "text/plain": [
       "<matplotlib.collections.PathCollection at 0x7fa132f91ac8>"
      ]
     },
     "execution_count": 28,
     "metadata": {},
     "output_type": "execute_result"
    },
    {
     "data": {
      "image/png": "[encoded data removed]",
      "text/plain": [
       "<Figure size 432x288 with 1 Axes>"
      ]
     },
     "metadata": {
      "needs_background": "light"
     },
     "output_type": "display_data"
    }
   ],
   "source": [
    "plt.scatter(X[index_1,0],X[index_1,1],marker='o',color = 'r',label = '1',s = 15) \n"
   ]
  },
  {
   "cell_type": "code",
   "execution_count": 29,
   "metadata": {},
   "outputs": [],
   "source": [
    "index_2=np.where(label==2)"
   ]
  },
  {
   "cell_type": "code",
   "execution_count": 30,
   "metadata": {},
   "outputs": [
    {
     "data": {
      "text/plain": [
       "<matplotlib.collections.PathCollection at 0x7fa132f67710>"
      ]
     },
     "execution_count": 30,
     "metadata": {},
     "output_type": "execute_result"
    },
    {
     "data": {
      "image/png": "[encoded data removed]",
      "text/plain": [
       "<Figure size 432x288 with 1 Axes>"
      ]
     },
     "metadata": {
      "needs_background": "light"
     },
     "output_type": "display_data"
    }
   ],
   "source": [
    "plt.scatter(X[index_2,0],X[index_2,1],marker='v',color = 'k',label = '2',s = 15) "
   ]
  },
  {
   "cell_type": "code",
   "execution_count": 74,
   "metadata": {},
   "outputs": [],
   "source": [
    "y_new = y\n",
    "# y_new中是0的重新复制为1， 其余的赋值为-1\n",
    "# LMSE是一个二分问题， 所以需要进行转换\n",
    "y_new=np.where(y_new==0,1,-1)"
   ]
  },
  {
   "cell_type": "code",
   "execution_count": 75,
   "metadata": {},
   "outputs": [
    {
     "data": {
      "text/plain": [
       "array([ 1,  1,  1,  1,  1,  1,  1,  1,  1,  1,  1,  1,  1,  1,  1,  1,  1,\n",
       "        1,  1,  1,  1,  1,  1,  1,  1,  1,  1,  1,  1,  1,  1,  1,  1,  1,\n",
       "        1,  1,  1,  1,  1,  1,  1,  1,  1,  1,  1,  1,  1,  1,  1,  1, -1,\n",
       "       -1, -1, -1, -1, -1, -1, -1, -1, -1, -1, -1, -1, -1, -1, -1, -1, -1,\n",
       "       -1, -1, -1, -1, -1, -1, -1, -1, -1, -1, -1, -1, -1, -1, -1, -1, -1,\n",
       "       -1, -1, -1, -1, -1, -1, -1, -1, -1, -1, -1, -1, -1, -1, -1, -1, -1,\n",
       "       -1, -1, -1, -1, -1, -1, -1, -1, -1, -1, -1, -1, -1, -1, -1, -1, -1,\n",
       "       -1, -1, -1, -1, -1, -1, -1, -1, -1, -1, -1, -1, -1, -1, -1, -1, -1,\n",
       "       -1, -1, -1, -1, -1, -1, -1, -1, -1, -1, -1, -1, -1, -1])"
      ]
     },
     "execution_count": 75,
     "metadata": {},
     "output_type": "execute_result"
    }
   ],
   "source": [
    "y_new"
   ]
  },
  {
   "cell_type": "code",
   "execution_count": 35,
   "metadata": {},
   "outputs": [
    {
     "data": {
      "text/plain": [
       "array([0, 0, 0, 0, 0, 0, 0, 0, 0, 0, 0, 0, 0, 0, 0, 0, 0, 0, 0, 0, 0, 0,\n",
       "       0, 0, 0, 0, 0, 0, 0, 0, 0, 0, 0, 0, 0, 0, 0, 0, 0, 0, 0, 0, 0, 0,\n",
       "       0, 0, 0, 0, 0, 0, 1, 1, 1, 1, 1, 1, 1, 1, 1, 1, 1, 1, 1, 1, 1, 1,\n",
       "       1, 1, 1, 1, 1, 1, 1, 1, 1, 1, 1, 1, 1, 1, 1, 1, 1, 1, 1, 1, 1, 1,\n",
       "       1, 1, 1, 1, 1, 1, 1, 1, 1, 1, 1, 1, 2, 2, 2, 2, 2, 2, 2, 2, 2, 2,\n",
       "       2, 2, 2, 2, 2, 2, 2, 2, 2, 2, 2, 2, 2, 2, 2, 2, 2, 2, 2, 2, 2, 2,\n",
       "       2, 2, 2, 2, 2, 2, 2, 2, 2, 2, 2, 2, 2, 2, 2, 2, 2, 2])"
      ]
     },
     "execution_count": 35,
     "metadata": {},
     "output_type": "execute_result"
    }
   ],
   "source": [
    "y"
   ]
  },
  {
   "cell_type": "code",
   "execution_count": 105,
   "metadata": {},
   "outputs": [
    {
     "name": "stdout",
     "output_type": "stream",
     "text": [
      "reach bmin,end\n"
     ]
    },
    {
     "data": {
      "image/png": "[encoded data removed]",
      "text/plain": [
       "<Figure size 432x288 with 1 Axes>"
      ]
     },
     "metadata": {
      "needs_background": "light"
     },
     "output_type": "display_data"
    }
   ],
   "source": [
    "plt.scatter(X[index_0,0],X[index_0,1],marker='x',color = 'b',label = '0',s = 15)\n",
    "plt.scatter(X[index_1,0],X[index_1,1],marker='o',color = 'r',label = '1',s = 15) \n",
    "plt.scatter(X[index_2,0],X[index_2,1],marker='v',color = 'k',label = '2',s = 15) \n",
    "\n",
    "lmse=LMSE()\n",
    "lmse.train(X,y_new)\n",
    "h=lmse.predict(X)\n",
    "w=lmse.W\n",
    "x1 = np.arange(1.5,5,0.5)\n",
    "x2 = -(w[0] +w[1]*x1) / w[2]\n",
    "plt.plot(x1,x2,color = 'black') \n",
    "plt.legend(loc = 'upper left')  \n",
    "plt.show()"
   ]
  },
  {
   "cell_type": "code",
   "execution_count": 106,
   "metadata": {},
   "outputs": [
    {
     "name": "stdout",
     "output_type": "stream",
     "text": [
      "training use ovo vote\n",
      "reach bmin,end\n",
      "reach bmin,end\n",
      "reach bmin,end\n",
      "using ovo mode for predicting\n",
      "the accuracy is:  0.8666666666666667\n"
     ]
    },
    {
     "data": {
      "image/png": "[encoded data removed]",
      "text/plain": [
       "<Figure size 432x288 with 1 Axes>"
      ]
     },
     "metadata": {
      "needs_background": "light"
     },
     "output_type": "display_data"
    }
   ],
   "source": [
    "\n",
    "x_train, x_test, y_train, y_test=train_test_split(X, y, test_size=0.2, random_state=31,stratify=y)\n",
    "label=np.array(y_train)\n",
    "index_0 = np.where(label==0)  \n",
    "plt.scatter(x_train[index_0,0],x_train[index_0,1],marker='x',color = 'b',label = '0',s = 15)\n",
    "index_1 =np.where(label==1)\n",
    "plt.scatter(x_train[index_1,0],x_train[index_1,1],marker='o',color = 'r',label = '1',s = 15) \n",
    "index_2=np.where(label==2)\n",
    "plt.scatter(x_train[index_2,0],x_train[index_2,1],marker='v',color = 'k',label = '2',s = 15) \n",
    "\n",
    "lmseII=LMSE()\n",
    "vt=VOTER()\n",
    "W=vt.train(x_train,y_train,1,lmseII)\n",
    "pred=vt.predict(x_test)\n",
    "acc=accuracy_score(y_test,pred)\n",
    "print('the accuracy is: ',acc)\n",
    "k=0\n",
    "name=['class 0,class 1','class 0,class 2','class 1,class 2']\n",
    "#show the decision boundary\n",
    "for w in W:\n",
    "    x1 = np.arange(1.5,5.5,0.5)  \n",
    "    x2 = -( w[0] +w[1]*x1) / w[2]  \n",
    "    plt.plot(x1,x2,label=name[k])   \n",
    "    plt.legend(loc = 'best')  \n",
    "    k=k+1\n",
    "plt.show()"
   ]
  },
  {
   "cell_type": "code",
   "execution_count": 107,
   "metadata": {},
   "outputs": [
    {
     "name": "stdout",
     "output_type": "stream",
     "text": [
      "using ovo mode for predicting\n"
     ]
    },
    {
     "data": {
      "image/png": "[encoded data removed]",
      "text/plain": [
       "<Figure size 432x288 with 1 Axes>"
      ]
     },
     "metadata": {
      "needs_background": "light"
     },
     "output_type": "display_data"
    }
   ],
   "source": [
    "fig = plot_decision_regions(X=X, y=y,\n",
    "                                clf=vt, legend=2)"
   ]
  },
  {
   "cell_type": "code",
   "execution_count": 114,
   "metadata": {},
   "outputs": [
    {
     "name": "stdout",
     "output_type": "stream",
     "text": [
      "training use ova vote\n",
      "reach bmin,end\n",
      "reach bmin,end\n",
      "reach bmin,end\n",
      "using ova mode for predicting\n",
      "the accuracy is:  0.78\n"
     ]
    },
    {
     "data": {
      "image/png": "[encoded data removed]",
      "text/plain": [
       "<Figure size 432x288 with 1 Axes>"
      ]
     },
     "metadata": {
      "needs_background": "light"
     },
     "output_type": "display_data"
    }
   ],
   "source": [
    "index_0 = np.where(label==0)  \n",
    "plt.scatter(X[index_0,0],X[index_0,1],marker='x',color = 'b',label = '0',s = 15)\n",
    "index_1 =np.where(label==1)\n",
    "plt.scatter(X[index_1,0],X[index_1,1],marker='o',color = 'r',label = '1',s = 15) \n",
    "index_2=np.where(label==2)\n",
    "plt.scatter(X[index_2,0],X[index_2,1],marker='v',color = 'k',label = '2',s = 15) \n",
    "\n",
    "gz=LMSE()\n",
    "vt=VOTER()\n",
    "W=vt.train(X,y,0,gz)\n",
    "pred=vt.predict(X)\n",
    "acc=accuracy_score(y,pred)\n",
    "print('the accuracy is: ',acc)\n",
    "k=0\n",
    "name=['class 0 vs all','class 1 vs all','class 2 vs all']\n",
    "#show the decision boundary\n",
    "for w in W:\n",
    "    x1 = np.arange(1.5,5.5,0.5)  \n",
    "    x2 = -( w[0] +w[1]*x1) / w[2]\n",
    "    plt.ylim(ymax=3.5)\n",
    "    plt.ylim(ymin=-0.5)\n",
    "    plt.plot(x1,x2,label=name[k])   \n",
    "    plt.legend(loc = 'best')  \n",
    "    k=k+1\n",
    "plt.show()"
   ]
  },
  {
   "cell_type": "code",
   "execution_count": 115,
   "metadata": {},
   "outputs": [
    {
     "name": "stdout",
     "output_type": "stream",
     "text": [
      "using ova mode for predicting\n"
     ]
    },
    {
     "data": {
      "image/png": "[encoded data removed]",
      "text/plain": [
       "<Figure size 432x288 with 1 Axes>"
      ]
     },
     "metadata": {
      "needs_background": "light"
     },
     "output_type": "display_data"
    }
   ],
   "source": [
    "fig = plot_decision_regions(X=X, y=y,\n",
    "                                clf=vt, legend=2)"
   ]
  },
  {
   "cell_type": "code",
   "execution_count": null,
   "metadata": {},
   "outputs": [],
   "source": []
  }
 ],
 "metadata": {
  "kernelspec": {
   "display_name": "Python 3",
   "language": "python",
   "name": "python3"
  },
  "language_info": {
   "codemirror_mode": {
    "name": "ipython",
    "version": 3
   },
   "file_extension": ".py",
   "mimetype": "text/x-python",
   "name": "python",
   "nbconvert_exporter": "python",
   "pygments_lexer": "ipython3",
   "version": "3.6.9"
  }
 },
 "nbformat": 4,
 "nbformat_minor": 2
}
