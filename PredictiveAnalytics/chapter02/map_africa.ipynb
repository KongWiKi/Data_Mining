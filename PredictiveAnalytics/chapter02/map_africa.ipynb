{
 "cells": [
  {
   "cell_type": "code",
   "execution_count": 12,
   "metadata": {},
   "outputs": [],
   "source": [
    "%matplotlib inline\n",
    "import matplotlib\n",
    "import pandas as pd\n",
    "import numpy as np\n",
    "import geopandas as geo"
   ]
  },
  {
   "cell_type": "code",
   "execution_count": 13,
   "metadata": {},
   "outputs": [],
   "source": [
    "africa_map = geo.GeoDataFrame.from_file('../data/PA_chapter2_data/Africa_SHP/Africa.shp')"
   ]
  },
  {
   "cell_type": "code",
   "execution_count": 14,
   "metadata": {},
   "outputs": [
    {
     "data": {
      "text/html": [
       "<div>\n",
       "<style>\n",
       "    .dataframe thead tr:only-child th {\n",
       "        text-align: right;\n",
       "    }\n",
       "\n",
       "    .dataframe thead th {\n",
       "        text-align: left;\n",
       "    }\n",
       "\n",
       "    .dataframe tbody tr th {\n",
       "        vertical-align: top;\n",
       "    }\n",
       "</style>\n",
       "<table border=\"1\" class=\"dataframe\">\n",
       "  <thead>\n",
       "    <tr style=\"text-align: right;\">\n",
       "      <th></th>\n",
       "      <th>ID</th>\n",
       "      <th>CODE</th>\n",
       "      <th>COUNTRY</th>\n",
       "      <th>geometry</th>\n",
       "    </tr>\n",
       "  </thead>\n",
       "  <tbody>\n",
       "    <tr>\n",
       "      <th>0</th>\n",
       "      <td>1</td>\n",
       "      <td>ALG</td>\n",
       "      <td>Algeria</td>\n",
       "      <td>POLYGON ((-5.7636199999979 25.58624999999302, ...</td>\n",
       "    </tr>\n",
       "    <tr>\n",
       "      <th>1</th>\n",
       "      <td>2</td>\n",
       "      <td>ANG</td>\n",
       "      <td>Angola</td>\n",
       "      <td>POLYGON ((13.36632442474365 -8.32172966003418,...</td>\n",
       "    </tr>\n",
       "    <tr>\n",
       "      <th>2</th>\n",
       "      <td>3</td>\n",
       "      <td>ANG</td>\n",
       "      <td>Angola</td>\n",
       "      <td>POLYGON ((12.80576000000292 -4.806490000002668...</td>\n",
       "    </tr>\n",
       "    <tr>\n",
       "      <th>3</th>\n",
       "      <td>4</td>\n",
       "      <td>ANG</td>\n",
       "      <td>Angola</td>\n",
       "      <td>POLYGON ((11.76834011077881 -16.79932975769043...</td>\n",
       "    </tr>\n",
       "    <tr>\n",
       "      <th>4</th>\n",
       "      <td>5</td>\n",
       "      <td>ANG</td>\n",
       "      <td>Angola</td>\n",
       "      <td>POLYGON ((12.89840030670166 -5.988018989562988...</td>\n",
       "    </tr>\n",
       "  </tbody>\n",
       "</table>\n",
       "</div>"
      ],
      "text/plain": [
       "  ID CODE  COUNTRY                                           geometry\n",
       "0  1  ALG  Algeria  POLYGON ((-5.7636199999979 25.58624999999302, ...\n",
       "1  2  ANG   Angola  POLYGON ((13.36632442474365 -8.32172966003418,...\n",
       "2  3  ANG   Angola  POLYGON ((12.80576000000292 -4.806490000002668...\n",
       "3  4  ANG   Angola  POLYGON ((11.76834011077881 -16.79932975769043...\n",
       "4  5  ANG   Angola  POLYGON ((12.89840030670166 -5.988018989562988..."
      ]
     },
     "execution_count": 14,
     "metadata": {},
     "output_type": "execute_result"
    }
   ],
   "source": [
    "africa_map.head()"
   ]
  },
  {
   "cell_type": "code",
   "execution_count": 15,
   "metadata": {},
   "outputs": [
    {
     "data": {
      "text/plain": [
       "<matplotlib.axes._subplots.AxesSubplot at 0x7f8507982588>"
      ]
     },
     "execution_count": 15,
     "metadata": {},
     "output_type": "execute_result"
    },
    {
     "data": {
      "image/png": "[encoded data removed]",
      "text/plain": [
       "<matplotlib.figure.Figure at 0x7f8507987048>"
      ]
     },
     "metadata": {},
     "output_type": "display_data"
    }
   ],
   "source": [
    "africa_map.plot(column='CODE')"
   ]
  },
  {
   "cell_type": "code",
   "execution_count": 16,
   "metadata": {},
   "outputs": [],
   "source": [
    "africa_populations = pd.read_csv('../data/PA_chapter2_data/Africa_populations.tsv',sep='\\t')"
   ]
  },
  {
   "cell_type": "code",
   "execution_count": 17,
   "metadata": {},
   "outputs": [
    {
     "data": {
      "text/html": [
       "<div>\n",
       "<style>\n",
       "    .dataframe thead tr:only-child th {\n",
       "        text-align: right;\n",
       "    }\n",
       "\n",
       "    .dataframe thead th {\n",
       "        text-align: left;\n",
       "    }\n",
       "\n",
       "    .dataframe tbody tr th {\n",
       "        vertical-align: top;\n",
       "    }\n",
       "</style>\n",
       "<table border=\"1\" class=\"dataframe\">\n",
       "  <thead>\n",
       "    <tr style=\"text-align: right;\">\n",
       "      <th></th>\n",
       "      <th>ID</th>\n",
       "      <th>CODE</th>\n",
       "      <th>COUNTRY</th>\n",
       "      <th>geometry</th>\n",
       "    </tr>\n",
       "  </thead>\n",
       "  <tbody>\n",
       "    <tr>\n",
       "      <th>0</th>\n",
       "      <td>1</td>\n",
       "      <td>ALG</td>\n",
       "      <td>Algeria</td>\n",
       "      <td>POLYGON ((-5.7636199999979 25.58624999999302, ...</td>\n",
       "    </tr>\n",
       "    <tr>\n",
       "      <th>1</th>\n",
       "      <td>2</td>\n",
       "      <td>ANG</td>\n",
       "      <td>Angola</td>\n",
       "      <td>POLYGON ((13.36632442474365 -8.32172966003418,...</td>\n",
       "    </tr>\n",
       "    <tr>\n",
       "      <th>2</th>\n",
       "      <td>3</td>\n",
       "      <td>ANG</td>\n",
       "      <td>Angola</td>\n",
       "      <td>POLYGON ((12.80576000000292 -4.806490000002668...</td>\n",
       "    </tr>\n",
       "    <tr>\n",
       "      <th>3</th>\n",
       "      <td>4</td>\n",
       "      <td>ANG</td>\n",
       "      <td>Angola</td>\n",
       "      <td>POLYGON ((11.76834011077881 -16.79932975769043...</td>\n",
       "    </tr>\n",
       "    <tr>\n",
       "      <th>4</th>\n",
       "      <td>5</td>\n",
       "      <td>ANG</td>\n",
       "      <td>Angola</td>\n",
       "      <td>POLYGON ((12.89840030670166 -5.988018989562988...</td>\n",
       "    </tr>\n",
       "  </tbody>\n",
       "</table>\n",
       "</div>"
      ],
      "text/plain": [
       "  ID CODE  COUNTRY                                           geometry\n",
       "0  1  ALG  Algeria  POLYGON ((-5.7636199999979 25.58624999999302, ...\n",
       "1  2  ANG   Angola  POLYGON ((13.36632442474365 -8.32172966003418,...\n",
       "2  3  ANG   Angola  POLYGON ((12.80576000000292 -4.806490000002668...\n",
       "3  4  ANG   Angola  POLYGON ((11.76834011077881 -16.79932975769043...\n",
       "4  5  ANG   Angola  POLYGON ((12.89840030670166 -5.988018989562988..."
      ]
     },
     "execution_count": 17,
     "metadata": {},
     "output_type": "execute_result"
    }
   ],
   "source": [
    "africa_map.head()"
   ]
  },
  {
   "cell_type": "code",
   "execution_count": 18,
   "metadata": {},
   "outputs": [
    {
     "data": {
      "text/html": [
       "<div>\n",
       "<style>\n",
       "    .dataframe thead tr:only-child th {\n",
       "        text-align: right;\n",
       "    }\n",
       "\n",
       "    .dataframe thead th {\n",
       "        text-align: left;\n",
       "    }\n",
       "\n",
       "    .dataframe tbody tr th {\n",
       "        vertical-align: top;\n",
       "    }\n",
       "</style>\n",
       "<table border=\"1\" class=\"dataframe\">\n",
       "  <thead>\n",
       "    <tr style=\"text-align: right;\">\n",
       "      <th></th>\n",
       "      <th>Country_Name</th>\n",
       "      <th>Population</th>\n",
       "      <th>Year_of_Estimate</th>\n",
       "    </tr>\n",
       "  </thead>\n",
       "  <tbody>\n",
       "    <tr>\n",
       "      <th>0</th>\n",
       "      <td>Nigeria</td>\n",
       "      <td>177,155,760</td>\n",
       "      <td>2014</td>\n",
       "    </tr>\n",
       "    <tr>\n",
       "      <th>1</th>\n",
       "      <td>Ethiopia</td>\n",
       "      <td>96,633,456</td>\n",
       "      <td>2014</td>\n",
       "    </tr>\n",
       "    <tr>\n",
       "      <th>2</th>\n",
       "      <td>Egypt</td>\n",
       "      <td>86,895,096</td>\n",
       "      <td>2014</td>\n",
       "    </tr>\n",
       "    <tr>\n",
       "      <th>3</th>\n",
       "      <td>Congo, Democratic Republic of the</td>\n",
       "      <td>77,433,744</td>\n",
       "      <td>2014</td>\n",
       "    </tr>\n",
       "    <tr>\n",
       "      <th>4</th>\n",
       "      <td>Tanzania</td>\n",
       "      <td>49,639,136</td>\n",
       "      <td>2014</td>\n",
       "    </tr>\n",
       "  </tbody>\n",
       "</table>\n",
       "</div>"
      ],
      "text/plain": [
       "                        Country_Name   Population  Year_of_Estimate\n",
       "0                            Nigeria  177,155,760              2014\n",
       "1                           Ethiopia   96,633,456              2014\n",
       "2                              Egypt   86,895,096              2014\n",
       "3  Congo, Democratic Republic of the   77,433,744              2014\n",
       "4                           Tanzania   49,639,136              2014"
      ]
     },
     "execution_count": 18,
     "metadata": {},
     "output_type": "execute_result"
    }
   ],
   "source": [
    "africa_populations.head()"
   ]
  },
  {
   "cell_type": "code",
   "execution_count": 19,
   "metadata": {},
   "outputs": [],
   "source": [
    "africa_map = pd.merge(africa_map,africa_populations,left_on='COUNTRY',right_on='Country_Name')"
   ]
  },
  {
   "cell_type": "code",
   "execution_count": 20,
   "metadata": {},
   "outputs": [
    {
     "data": {
      "text/html": [
       "<div>\n",
       "<style>\n",
       "    .dataframe thead tr:only-child th {\n",
       "        text-align: right;\n",
       "    }\n",
       "\n",
       "    .dataframe thead th {\n",
       "        text-align: left;\n",
       "    }\n",
       "\n",
       "    .dataframe tbody tr th {\n",
       "        vertical-align: top;\n",
       "    }\n",
       "</style>\n",
       "<table border=\"1\" class=\"dataframe\">\n",
       "  <thead>\n",
       "    <tr style=\"text-align: right;\">\n",
       "      <th></th>\n",
       "      <th>ID</th>\n",
       "      <th>CODE</th>\n",
       "      <th>COUNTRY</th>\n",
       "      <th>geometry</th>\n",
       "      <th>Country_Name</th>\n",
       "      <th>Population</th>\n",
       "      <th>Year_of_Estimate</th>\n",
       "    </tr>\n",
       "  </thead>\n",
       "  <tbody>\n",
       "    <tr>\n",
       "      <th>0</th>\n",
       "      <td>1</td>\n",
       "      <td>ALG</td>\n",
       "      <td>Algeria</td>\n",
       "      <td>POLYGON ((-5.7636199999979 25.58624999999302, ...</td>\n",
       "      <td>Algeria</td>\n",
       "      <td>38,813,720</td>\n",
       "      <td>2014</td>\n",
       "    </tr>\n",
       "    <tr>\n",
       "      <th>1</th>\n",
       "      <td>2</td>\n",
       "      <td>ANG</td>\n",
       "      <td>Angola</td>\n",
       "      <td>POLYGON ((13.36632442474365 -8.32172966003418,...</td>\n",
       "      <td>Angola</td>\n",
       "      <td>19,088,106</td>\n",
       "      <td>2014</td>\n",
       "    </tr>\n",
       "    <tr>\n",
       "      <th>2</th>\n",
       "      <td>3</td>\n",
       "      <td>ANG</td>\n",
       "      <td>Angola</td>\n",
       "      <td>POLYGON ((12.80576000000292 -4.806490000002668...</td>\n",
       "      <td>Angola</td>\n",
       "      <td>19,088,106</td>\n",
       "      <td>2014</td>\n",
       "    </tr>\n",
       "    <tr>\n",
       "      <th>3</th>\n",
       "      <td>4</td>\n",
       "      <td>ANG</td>\n",
       "      <td>Angola</td>\n",
       "      <td>POLYGON ((11.76834011077881 -16.79932975769043...</td>\n",
       "      <td>Angola</td>\n",
       "      <td>19,088,106</td>\n",
       "      <td>2014</td>\n",
       "    </tr>\n",
       "    <tr>\n",
       "      <th>4</th>\n",
       "      <td>5</td>\n",
       "      <td>ANG</td>\n",
       "      <td>Angola</td>\n",
       "      <td>POLYGON ((12.89840030670166 -5.988018989562988...</td>\n",
       "      <td>Angola</td>\n",
       "      <td>19,088,106</td>\n",
       "      <td>2014</td>\n",
       "    </tr>\n",
       "  </tbody>\n",
       "</table>\n",
       "</div>"
      ],
      "text/plain": [
       "  ID CODE  COUNTRY                                           geometry  \\\n",
       "0  1  ALG  Algeria  POLYGON ((-5.7636199999979 25.58624999999302, ...   \n",
       "1  2  ANG   Angola  POLYGON ((13.36632442474365 -8.32172966003418,...   \n",
       "2  3  ANG   Angola  POLYGON ((12.80576000000292 -4.806490000002668...   \n",
       "3  4  ANG   Angola  POLYGON ((11.76834011077881 -16.79932975769043...   \n",
       "4  5  ANG   Angola  POLYGON ((12.89840030670166 -5.988018989562988...   \n",
       "\n",
       "  Country_Name  Population  Year_of_Estimate  \n",
       "0      Algeria  38,813,720              2014  \n",
       "1       Angola  19,088,106              2014  \n",
       "2       Angola  19,088,106              2014  \n",
       "3       Angola  19,088,106              2014  \n",
       "4       Angola  19,088,106              2014  "
      ]
     },
     "execution_count": 20,
     "metadata": {},
     "output_type": "execute_result"
    }
   ],
   "source": [
    "africa_map.head()"
   ]
  },
  {
   "cell_type": "code",
   "execution_count": 21,
   "metadata": {},
   "outputs": [
    {
     "name": "stderr",
     "output_type": "stream",
     "text": [
      "/usr/local/lib/python3.5/dist-packages/geopandas/plotting.py:381: FutureWarning: 'colormap' is deprecated, please use 'cmap' instead (for consistency with matplotlib)\n",
      "  \"(for consistency with matplotlib)\", FutureWarning)\n"
     ]
    },
    {
     "data": {
      "text/plain": [
       "<matplotlib.axes._subplots.AxesSubplot at 0x7f85079f3f28>"
      ]
     },
     "execution_count": 21,
     "metadata": {},
     "output_type": "execute_result"
    },
    {
     "data": {
      "image/png": "[encoded data removed]",
      "text/plain": [
       "<matplotlib.figure.Figure at 0x7f8507715ba8>"
      ]
     },
     "metadata": {},
     "output_type": "display_data"
    }
   ],
   "source": [
    "africa_map.plot(column='Population',colormap='hot')"
   ]
  },
  {
   "cell_type": "code",
   "execution_count": null,
   "metadata": {},
   "outputs": [],
   "source": []
  }
 ],
 "metadata": {
  "kernelspec": {
   "display_name": "Python 3",
   "language": "python",
   "name": "python3"
  },
  "language_info": {
   "codemirror_mode": {
    "name": "ipython",
    "version": 3
   },
   "file_extension": ".py",
   "mimetype": "text/x-python",
   "name": "python",
   "nbconvert_exporter": "python",
   "pygments_lexer": "ipython3",
   "version": "3.5.3"
  }
 },
 "nbformat": 4,
 "nbformat_minor": 1
}
