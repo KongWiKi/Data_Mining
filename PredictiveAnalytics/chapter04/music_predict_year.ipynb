{
 "cells": [
  {
   "cell_type": "code",
   "execution_count": 1,
   "metadata": {},
   "outputs": [],
   "source": [
    "import findspark\n",
    "findspark.init()"
   ]
  },
  {
   "cell_type": "code",
   "execution_count": 2,
   "metadata": {},
   "outputs": [],
   "source": [
    "%matplotlib inline\n",
    "from pyspark import SparkContext\n",
    "from pyspark.sql import SQLContext"
   ]
  },
  {
   "cell_type": "code",
   "execution_count": 3,
   "metadata": {},
   "outputs": [],
   "source": [
    "sc = SparkContext('local','music_spark')"
   ]
  },
  {
   "cell_type": "code",
   "execution_count": 4,
   "metadata": {},
   "outputs": [],
   "source": [
    "sqlContext = SQLContext(sc)"
   ]
  },
  {
   "cell_type": "code",
   "execution_count": 6,
   "metadata": {},
   "outputs": [],
   "source": [
    "def parse_line(l):\n",
    "    try:\n",
    "        return l.split(\",\")\n",
    "    except:\n",
    "        print('error in processing{0}'.format(l))\n"
   ]
  },
  {
   "cell_type": "code",
   "execution_count": 7,
   "metadata": {},
   "outputs": [],
   "source": [
    "songs = sc.textFile('../../data/PA_chapter4_data/YearPredictionMSD.txt').map(lambda x : parse_line(x)).toDF()"
   ]
  },
  {
   "cell_type": "code",
   "execution_count": 8,
   "metadata": {},
   "outputs": [
    {
     "data": {
      "text/plain": [
       "DataFrame[_1: string, _2: string, _3: string, _4: string, _5: string, _6: string, _7: string, _8: string, _9: string, _10: string, _11: string, _12: string, _13: string, _14: string, _15: string, _16: string, _17: string, _18: string, _19: string, _20: string, _21: string, _22: string, _23: string, _24: string, _25: string, _26: string, _27: string, _28: string, _29: string, _30: string, _31: string, _32: string, _33: string, _34: string, _35: string, _36: string, _37: string, _38: string, _39: string, _40: string, _41: string, _42: string, _43: string, _44: string, _45: string, _46: string, _47: string, _48: string, _49: string, _50: string, _51: string, _52: string, _53: string, _54: string, _55: string, _56: string, _57: string, _58: string, _59: string, _60: string, _61: string, _62: string, _63: string, _64: string, _65: string, _66: string, _67: string, _68: string, _69: string, _70: string, _71: string, _72: string, _73: string, _74: string, _75: string, _76: string, _77: string, _78: string, _79: string, _80: string, _81: string, _82: string, _83: string, _84: string, _85: string, _86: string, _87: string, _88: string, _89: string, _90: string, _91: string]"
      ]
     },
     "execution_count": 8,
     "metadata": {},
     "output_type": "execute_result"
    }
   ],
   "source": [
    "songs"
   ]
  },
  {
   "cell_type": "code",
   "execution_count": 12,
   "metadata": {},
   "outputs": [],
   "source": [
    "from pyspark.mllib.regression import LabeledPoint\n",
    "songs_labeled = songs.rdd.map( lambda x: LabeledPoint(x[0],x[1:]) )"
   ]
  },
  {
   "cell_type": "code",
   "execution_count": 13,
   "metadata": {},
   "outputs": [],
   "source": [
    "songs_train = songs_labeled.zipWithIndex().filter(lambda x:x[1]<463715).map(lambda x:x[0])"
   ]
  },
  {
   "cell_type": "code",
   "execution_count": 14,
   "metadata": {},
   "outputs": [],
   "source": [
    "songs_test = songs_labeled.zipWithIndex().filter(lambda x:x[1]>=463715).map(lambda x:x[0])"
   ]
  },
  {
   "cell_type": "code",
   "execution_count": 15,
   "metadata": {},
   "outputs": [],
   "source": [
    "from pyspark.mllib.tree import RandomForest\n",
    "rf = RandomForest.trainRegressor(songs_train,{},50,\"auto\",\"variance\",10,32)\n",
    "prediction = rf.predict(songs_test.map(lambda x:x.features))\n",
    "predictionObserved = songs_test.map(lambda lp: lp.label).zip(prediction)"
   ]
  },
  {
   "cell_type": "code",
   "execution_count": 16,
   "metadata": {},
   "outputs": [
    {
     "data": {
      "text/plain": [
       "-3.736708080530903"
      ]
     },
     "execution_count": 16,
     "metadata": {},
     "output_type": "execute_result"
    }
   ],
   "source": [
    "from pyspark.mllib.evaluation import RegressionMetrics\n",
    "RegressionMetrics(predictionObserved).r2"
   ]
  },
  {
   "cell_type": "code",
   "execution_count": null,
   "metadata": {},
   "outputs": [],
   "source": []
  }
 ],
 "metadata": {
  "kernelspec": {
   "display_name": "Python 3",
   "language": "python",
   "name": "python3"
  },
  "language_info": {
   "codemirror_mode": {
    "name": "ipython",
    "version": 3
   },
   "file_extension": ".py",
   "mimetype": "text/x-python",
   "name": "python",
   "nbconvert_exporter": "python",
   "pygments_lexer": "ipython3",
   "version": "3.5.3"
  }
 },
 "nbformat": 4,
 "nbformat_minor": 2
}
